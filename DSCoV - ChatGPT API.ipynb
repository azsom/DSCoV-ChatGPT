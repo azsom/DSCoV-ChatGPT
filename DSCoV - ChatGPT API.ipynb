{
 "cells": [
  {
   "cell_type": "markdown",
   "id": "3df4480b-e8bf-4df0-937e-38ad6e9bedce",
   "metadata": {},
   "source": [
    "# Intro to the ChatGPT API\n",
    "\n",
    "By the end of this talk, you will be able to:\n",
    "- interact with ChatGPT in a jupyter-notebook/google colab/VSCode\n",
    "- summarize text\n",
    "- perform sentiment analysis\n",
    "- develop a chatbot"
   ]
  },
  {
   "cell_type": "markdown",
   "id": "5ace39b5-51ed-48bf-9560-02faf4f56766",
   "metadata": {},
   "source": [
    "## Intro\n",
    "- GPT is short for Generative Pre-trained Transformer model\n",
    "    - it provides text outputs in response to text inputs (prompts)\n",
    "    - prompts have four goals:\n",
    "        - ask a question \n",
    "        - provide detailed instructions\n",
    "        - provide some examples of how to successfully complete a task\n",
    "        - provide domain knowledge ChatGPT needs to know to complete a task\n",
    "- ChatGPT is a large language model (LLM) improved by reinforcement learning with human feedback (RLHF)\n",
    "- You can interact with it in two ways:\n",
    "    - web interface: https://chat.openai.com/\n",
    "        - free or \\$20/month for a ChatGPT Plus plan \n",
    "    - API access mostly for developers to build chat-based applications\n",
    "        - token-based, I paid less than \\$0.05 to develop and test code for this talk\n"
   ]
  },
  {
   "cell_type": "markdown",
   "id": "7c1f220d-4c4a-447f-8e7d-338a1466b498",
   "metadata": {},
   "source": [
    "## Warning #1\n",
    "- ChatGPT is a third party software\n",
    "- Everything you ask and the responses you receive are collected and stored by OpenAI\n",
    "- DO NOT share sensitive data and personally identifiable info (PII) with AI tools such as ChatGPT, Bard, Github Copilot, etc.\n",
    "- No Level 2 and 3\n",
    "<center><img src=\"datariskclassification.png\" width=\"600\"></center>\n"
   ]
  },
  {
   "cell_type": "markdown",
   "id": "74e82c05-3b34-444b-b3a5-295631290d4f",
   "metadata": {},
   "source": [
    "## Warning #2\n",
    "- ChatGPT is not reproducible!\n",
    "- It does have a parameter to set the degree of randomness of the output called `temperature`\n",
    "- But setting it to 0 still does not guarantee reproducability!\n",
    "- ChatGPT is continually updated based on user feedback "
   ]
  },
  {
   "cell_type": "markdown",
   "id": "f2c66595-6fdb-4a4f-8ecb-e255390d6f7a",
   "metadata": {},
   "source": [
    "<font color='LIGHTGRAY'>By the end of this talk, you will be able to:</font>\n",
    "- **interact with ChatGPT in a jupyter-notebook/google colab/VSCode**\n",
    "- <font color='LIGHTGRAY'>summarize text</font>\n",
    "- <font color='LIGHTGRAY'>perform sentiment analysis</font>\n",
    "- <font color='LIGHTGRAY'>develop a chatbot</font>"
   ]
  },
  {
   "cell_type": "markdown",
   "id": "b1d78847-0b90-4926-abb1-b0bbc15a7966",
   "metadata": {},
   "source": [
    "## The get_completion() function"
   ]
  },
  {
   "cell_type": "code",
   "execution_count": 1,
   "id": "fe5b944d-fa31-4e67-bab5-0192fd9bc1cf",
   "metadata": {},
   "outputs": [],
   "source": [
    "import openai\n",
    "import os\n",
    "\n",
    "from dotenv import load_dotenv, find_dotenv\n",
    "_ = load_dotenv(find_dotenv())\n",
    "\n",
    "openai.api_key  = os.getenv('OPENAI_API_KEY')"
   ]
  },
  {
   "cell_type": "code",
   "execution_count": 2,
   "id": "9d68f7d3-a535-4607-9f05-6a11de472577",
   "metadata": {},
   "outputs": [],
   "source": [
    "def get_completion(prompts, roles = ['user'], model = \"gpt-3.5-turbo\", temperature = 0, n = 1, verbose = False):\n",
    "    '''\n",
    "    prompts: str or list\n",
    "        If str, it is a single prompt. If a list, it contains a list of strings in a message history.\n",
    "    roles: list, default is ['user']\n",
    "        A list of roles in a message history, usually the elements are 'user' or 'assistant'.\n",
    "    model: str, default is \"gpt-3.5-turbo\"\n",
    "        The specific model version to be used for generating the response.\n",
    "    temperature: float between 0 and 2, default is 0\n",
    "        The degree of randomness of the model's output.\n",
    "    n: int, default is 1\n",
    "        The number of completions to generate.\n",
    "    verbose: boolean, default is False\n",
    "        If True, the input messages and the full response in JSON format are printed. \n",
    "\n",
    "    Returns: str, list, or JSON object\n",
    "        The model's response. It is a string if n = 1 and verbose == False. \n",
    "        It is a list if n > 1 and verbose == False. It is a JSON object if verbose == True.\n",
    "    \n",
    "    Use the prompts and roles lists to provide message history. \n",
    "    This is useful if chatGPT needs context for a successful response.\n",
    "\n",
    "    Example:\n",
    "    \n",
    "    prompts = ['Tell me a joke.', 'Why did the chicken cross the road?', 'I don’t know, why did the chicken cross the road?']\n",
    "    roles = ['user','assistant','user'] \n",
    "\n",
    "    The response will be the punchline of the joke.\n",
    "    '''\n",
    "\n",
    "    # check inputs and prepare messages\n",
    "    if type(prompts) == str:\n",
    "        messages = [{'role':'user','content':prompts}]\n",
    "    elif type(prompts) == list:\n",
    "        if len(roles) != len(prompts):\n",
    "            raise ValueError('Lengths of roles and prompts are not equal!')\n",
    "        # combine roles and prompts\n",
    "        messages = [{\"role\":roles[i],\"content\":prompts[i]} for i in range(len(roles))] \n",
    "    else:\n",
    "        raise ValueError('prompts is neither a string nor a list!')\n",
    "        \n",
    "    if verbose:\n",
    "        print(messages)\n",
    "\n",
    "    # query ChatGPT\n",
    "    response = openai.ChatCompletion.create(\n",
    "        model=model,\n",
    "        messages=messages,\n",
    "        n = n,\n",
    "        temperature=temperature, \n",
    "    )\n",
    "\n",
    "    if verbose:\n",
    "        # return the full response as a JSON object\n",
    "        return response\n",
    "    else:\n",
    "        if n == 1: \n",
    "            # return the only response as a string\n",
    "            return response.choices[0].message[\"content\"]\n",
    "        else:\n",
    "            # return all responses as a list of strings\n",
    "            return [choice.message[\"content\"] for choice in response.choices]"
   ]
  },
  {
   "cell_type": "code",
   "execution_count": 3,
   "id": "9c1ab04e-bb17-40a4-a688-a593b9c81458",
   "metadata": {},
   "outputs": [
    {
     "name": "stdout",
     "output_type": "stream",
     "text": [
      "Sure, here's a classic one for you:\n",
      "\n",
      "Why don't scientists trust atoms?\n",
      "\n",
      "Because they make up everything!\n"
     ]
    }
   ],
   "source": [
    "# example of a simple prompt, no message history\n",
    "prompt = 'Tell me a joke!'\n",
    "response = get_completion(prompt)\n",
    "print(response)"
   ]
  },
  {
   "cell_type": "code",
   "execution_count": 4,
   "id": "1ab64425-bc7e-46af-a753-8c8507ccb446",
   "metadata": {},
   "outputs": [
    {
     "name": "stdout",
     "output_type": "stream",
     "text": [
      "To get to the other side!\n"
     ]
    }
   ],
   "source": [
    "roles = ['user','assistant','user']\n",
    "prompts = ['Tell me a joke.', 'Why did the chicken cross the road?', 'I don’t know, why did the chicken cross the road?']\n",
    "\n",
    "response = get_completion(prompts,roles)\n",
    "print(response)"
   ]
  },
  {
   "cell_type": "markdown",
   "id": "f50acab0-21f6-43d8-b88d-d2f03fe1566e",
   "metadata": {},
   "source": [
    "## Summarize text"
   ]
  },
  {
   "cell_type": "code",
   "execution_count": 5,
   "id": "93dc1619-1274-4fd5-a2d6-56700bdcbb2a",
   "metadata": {},
   "outputs": [
    {
     "data": {
      "text/plain": [
       "'\"Abilify 20 mg.\\r\\nI am a patient diagnosed with disorganized schizophrenia, depression,  schizoaffective disorder, bipolar.  I have experienced a sensitivity to my emotions, as well as how I react to my feelings.  I really don&#039;t feel out of the normal with any &quot;sexual frustration&quot;...and I wouldn&#039;t say this has increased/decreased.  I feel less anxious on the medication, and seemingly more at ease with myself when I take this medication.  It is a hard step to have people telling you that you actually do better on this pill, when half your life ago, you didn&#039;t have &quot;mental illness&quot;, and suddenly you become someone else.   My weight did fluxuate when on this drug.  But I feel it was due to stress factors outside of a regular environment.  I feel if you place yourself in good surroundings and support you do much better at being the person you are here to be.  I am so much happier in life with a routine.  I feel like I only referred to enlongated periods of sleep because of depression, and events surrounding certain time frames hence thoughts, and reactions.\\r\\nAbilify (aripiprazole) My instant reaction from this drug is concern for my well-being.  I am nervous because I am one of the people taking this drug till the stars fade, every day to my last.  My doctors all seem to say the same thing, and that is, &quot;This medication is working for you&quot;.  I do blood tests when I go into the Hospital freqently, and they are not finding anything off the charts and everything is always normal with my vitals. \\r\\nMy thought is, how do they consider this medication works for me?  Because I am not showing side effects?  Because I am accepting?  I feel I have to hold patience, my own value, what I care about around me to help better myself mentally and my virtue.  I feel that I am just not the type of person to curbside answers to things we wonder deeply about, I guess.  \\r\\nI don&#039;t know if there are any people who would agree then that I should ask if there are any women who have taken abilify during a pregnancy?  Just wondering what the reaction is...  Is my question?  I am a 30 year old female diagnosed with Mental Illness starting in 2004.  I started to take Abilify 20 mg. in 2004 to present.  Overall, since this medication has not been threatening to me, I feel I should embrace it.\"'"
      ]
     },
     "execution_count": 5,
     "metadata": {},
     "output_type": "execute_result"
    }
   ],
   "source": [
    "import pandas as pd\n",
    "import numpy as np\n",
    "\n",
    "# read in small dataset of drug reviews\n",
    "df = pd.read_csv('data/drugsComTrain_raw.tsv',sep='\\t')\n",
    "\n",
    "# grab the index of the longest review\n",
    "indx = np.argmax(df['review'].str.len())\n",
    "\n",
    "df['review'].iloc[indx]\n"
   ]
  },
  {
   "cell_type": "code",
   "execution_count": 6,
   "id": "81ea89e5-b6be-4e2c-874b-7626d8bee1dd",
   "metadata": {},
   "outputs": [],
   "source": [
    "# text to summarize\n",
    "prod_review = df['review'].iloc[indx]"
   ]
  },
  {
   "cell_type": "code",
   "execution_count": 7,
   "id": "ca3ae4f9-f493-45a6-a298-d31aa57b02d3",
   "metadata": {},
   "outputs": [
    {
     "name": "stdout",
     "output_type": "stream",
     "text": [
      "The reviewer, a patient with multiple mental health diagnoses, shares their experience with Abilify. They mention feeling less anxious and more at ease on the medication, but also express concerns about its long-term effects and potential risks during pregnancy.\n"
     ]
    }
   ],
   "source": [
    "prompt = f\"\"\"\n",
    "Your task is to generate a short summary of a drug \\\n",
    "review from a pharma site. \n",
    "\n",
    "Summarize the review below, delimited by triple \n",
    "backticks, in at most 30 words. \n",
    "\n",
    "Review: ```{prod_review}```\n",
    "\"\"\"\n",
    "\n",
    "response = get_completion(prompt)\n",
    "print(response)"
   ]
  },
  {
   "cell_type": "code",
   "execution_count": 8,
   "id": "ec8a6eb3-336e-4802-ab38-fb9eaabcca84",
   "metadata": {},
   "outputs": [
    {
     "name": "stdout",
     "output_type": "stream",
     "text": [
      "The reviewer has been taking Abilify 20 mg for their mental illnesses and has experienced less anxiety and improved well-being. They have concerns about the long-term effects and potential side effects, but overall feel that the medication has been beneficial for them.\n"
     ]
    }
   ],
   "source": [
    "# let's shift focus to certain aspects\n",
    "prompt = f\"\"\"\n",
    "Your task is to generate a short summary of a drug \\\n",
    "review from a pharma site. \n",
    "\n",
    "Summarize the review below focusing on aspects \n",
    "related to dosage, delimited by triple \n",
    "backticks, in at most 30 words. \n",
    "\n",
    "Review: ```{prod_review}```\n",
    "\"\"\"\n",
    "\n",
    "response = get_completion(prompt)\n",
    "print(response)\n"
   ]
  },
  {
   "cell_type": "code",
   "execution_count": 9,
   "id": "09656ce6-6fe5-4b2f-85d4-84a93a25b02b",
   "metadata": {},
   "outputs": [
    {
     "name": "stdout",
     "output_type": "stream",
     "text": [
      "The patient experienced sensitivity to emotions and weight fluctuation while taking Abilify. They also expressed concern about the long-term effects and potential risks during pregnancy.\n"
     ]
    }
   ],
   "source": [
    "# let's shift focus to certain aspects\n",
    "prompt = f\"\"\"\n",
    "Your task is to generate a short summary of a drug \\\n",
    "review from a pharma site. \n",
    "\n",
    "Summarize the review below focusing on the side effects\n",
    "the patient experienced, \n",
    "delimited by triple backticks, in at most 30 words. \n",
    "\n",
    "Review: ```{prod_review}```\n",
    "\"\"\"\n",
    "\n",
    "response = get_completion(prompt)\n",
    "print(response)\n"
   ]
  },
  {
   "cell_type": "markdown",
   "id": "f2fad7f8-9a87-43ba-8613-b9e2a6b712e4",
   "metadata": {},
   "source": [
    "## Sentiment analysis"
   ]
  },
  {
   "cell_type": "code",
   "execution_count": null,
   "id": "c1706f6a-5cf1-42eb-812d-17efa4b0a588",
   "metadata": {},
   "outputs": [],
   "source": []
  },
  {
   "cell_type": "markdown",
   "id": "1bade20a-4861-4871-8de9-c6438eb896ea",
   "metadata": {},
   "source": [
    "## Chatbots"
   ]
  },
  {
   "cell_type": "code",
   "execution_count": null,
   "id": "c4ca1ffa-3934-4ba5-a55e-55225e981168",
   "metadata": {},
   "outputs": [],
   "source": []
  }
 ],
 "metadata": {
  "kernelspec": {
   "display_name": "Python 3 (ipykernel)",
   "language": "python",
   "name": "python3"
  },
  "language_info": {
   "codemirror_mode": {
    "name": "ipython",
    "version": 3
   },
   "file_extension": ".py",
   "mimetype": "text/x-python",
   "name": "python",
   "nbconvert_exporter": "python",
   "pygments_lexer": "ipython3",
   "version": "3.11.5"
  }
 },
 "nbformat": 4,
 "nbformat_minor": 5
}
