{
 "cells": [
  {
   "cell_type": "markdown",
   "id": "3df4480b-e8bf-4df0-937e-38ad6e9bedce",
   "metadata": {},
   "source": [
    "# Intro to the ChatGPT API\n",
    "\n",
    "By the end of this talk, you will be able to:\n",
    "- interact with ChatGPT in a jupyter-notebook/google colab/VSCode\n",
    "- summarize text\n",
    "- perform sentiment analysis\n",
    "- develop a chatbot"
   ]
  },
  {
   "cell_type": "markdown",
   "id": "5ace39b5-51ed-48bf-9560-02faf4f56766",
   "metadata": {},
   "source": [
    "## Intro\n",
    "- GPT is short for Generative Pre-trained Transformer model\n",
    "    - it provides text outputs in response to text inputs (prompts)\n",
    "    - prompts have four goals:\n",
    "        - ask a question \n",
    "        - provide detailed instructions\n",
    "        - provide some examples of how to successfully complete a task\n",
    "        - provide domain knowledge ChatGPT needs to know to complete a task\n",
    "- ChatGPT is a large language model (LLM) improved by reinforcement learning with human feedback (RLHF)\n",
    "- You can interact with it in two ways:\n",
    "    - web interface: https://chat.openai.com/\n",
    "        - free or \\$20/month for a ChatGPT Plus plan \n",
    "    - API access mostly for developers to build chat-based applications\n",
    "        - token-based, I paid less than \\$0.05 to develop and test code for this talk\n"
   ]
  },
  {
   "cell_type": "markdown",
   "id": "7c1f220d-4c4a-447f-8e7d-338a1466b498",
   "metadata": {},
   "source": [
    "## Warning #1\n",
    "- ChatGPT is a third party software\n",
    "- Everything you ask and the responses you receive are collected and stored by OpenAI\n",
    "- DO NOT share sensitive data and personally identifiable info (PII) with AI tools such as ChatGPT, Bard, Github Copilot, etc.\n",
    "- No Level 2 and 3\n",
    "<center><img src=\"datariskclassification.png\" width=\"600\"></center>\n"
   ]
  },
  {
   "cell_type": "markdown",
   "id": "74e82c05-3b34-444b-b3a5-295631290d4f",
   "metadata": {},
   "source": [
    "## Warning #2\n",
    "- ChatGPT is not reproducible!\n",
    "- It does have a parameter to set the degree of randomness of the output called `temperature`\n",
    "- But setting it to 0 still does not guarantee reproducability!\n",
    "- ChatGPT is continually updated based on user feedback "
   ]
  },
  {
   "cell_type": "markdown",
   "id": "f2c66595-6fdb-4a4f-8ecb-e255390d6f7a",
   "metadata": {},
   "source": [
    "<font color='LIGHTGRAY'>By the end of this talk, you will be able to:</font>\n",
    "- **interact with ChatGPT in a jupyter-notebook/google colab/VSCode**\n",
    "- <font color='LIGHTGRAY'>summarize text</font>\n",
    "- <font color='LIGHTGRAY'>perform sentiment analysis</font>\n",
    "- <font color='LIGHTGRAY'>develop a chatbot</font>"
   ]
  },
  {
   "cell_type": "markdown",
   "id": "b1d78847-0b90-4926-abb1-b0bbc15a7966",
   "metadata": {},
   "source": [
    "## The get_completion() function"
   ]
  },
  {
   "cell_type": "code",
   "execution_count": 1,
   "id": "fe5b944d-fa31-4e67-bab5-0192fd9bc1cf",
   "metadata": {},
   "outputs": [],
   "source": [
    "import openai\n",
    "import os\n",
    "\n",
    "from dotenv import load_dotenv, find_dotenv\n",
    "_ = load_dotenv(find_dotenv())\n",
    "\n",
    "openai.api_key  = os.getenv('OPENAI_API_KEY')"
   ]
  },
  {
   "cell_type": "code",
   "execution_count": 2,
   "id": "9d68f7d3-a535-4607-9f05-6a11de472577",
   "metadata": {},
   "outputs": [],
   "source": [
    "def get_completion(prompts, roles = ['user'], model = \"gpt-3.5-turbo\", temperature = 0, n = 1, verbose = False):\n",
    "    '''\n",
    "    prompts: str or list\n",
    "        If str, it is a single prompt. If a list, it contains a list of strings in a message history.\n",
    "    roles: list, default is ['user']\n",
    "        A list of roles in a message history, usually the elements are 'user' or 'assistant'.\n",
    "    model: str, default is \"gpt-3.5-turbo\"\n",
    "        The specific model version to be used for generating the response.\n",
    "    temperature: float between 0 and 2, default is 0\n",
    "        The degree of randomness of the model's output.\n",
    "    n: int, default is 1\n",
    "        The number of completions to generate.\n",
    "    verbose: boolean, default is False\n",
    "        If True, the input messages and the full response in JSON format are printed. \n",
    "\n",
    "    Returns: str, list, or JSON object\n",
    "        The model's response. It is a string if n = 1 and verbose == False. \n",
    "        It is a list if n > 1 and verbose == False. It is a JSON object if verbose == True.\n",
    "    \n",
    "    Use the prompts and roles lists to provide message history. \n",
    "    This is useful if chatGPT needs context for a successful response.\n",
    "\n",
    "    Example:\n",
    "    \n",
    "    prompts = ['Tell me a joke.', 'Why did the chicken cross the road?', 'I don’t know, why did the chicken cross the road?']\n",
    "    roles = ['user','assistant','user'] \n",
    "\n",
    "    The response will be the punchline of the joke.\n",
    "    '''\n",
    "\n",
    "    # check inputs and prepare messages\n",
    "    if type(prompts) == str:\n",
    "        messages = [{'role':'user','content':prompts}]\n",
    "    elif type(prompts) == list:\n",
    "        if len(roles) != len(prompts):\n",
    "            raise ValueError('Lengths of roles and prompts are not equal!')\n",
    "        # combine roles and prompts\n",
    "        messages = [{\"role\":roles[i],\"content\":prompts[i]} for i in range(len(roles))] \n",
    "    else:\n",
    "        raise ValueError('prompts is neither a string nor a list!')\n",
    "        \n",
    "    if verbose:\n",
    "        print(messages)\n",
    "\n",
    "    # query ChatGPT\n",
    "    response = openai.ChatCompletion.create(\n",
    "        model=model,\n",
    "        messages=messages,\n",
    "        n = n,\n",
    "        temperature=temperature, \n",
    "    )\n",
    "\n",
    "    if verbose:\n",
    "        # return the full response as a JSON object\n",
    "        return response\n",
    "    else:\n",
    "        if n == 1: \n",
    "            # return the only response as a string\n",
    "            return response.choices[0].message[\"content\"]\n",
    "        else:\n",
    "            # return all responses as a list of strings\n",
    "            return [choice.message[\"content\"] for choice in response.choices]"
   ]
  },
  {
   "cell_type": "code",
   "execution_count": 3,
   "id": "9c1ab04e-bb17-40a4-a688-a593b9c81458",
   "metadata": {},
   "outputs": [
    {
     "name": "stdout",
     "output_type": "stream",
     "text": [
      "Sure, here's a classic one for you:\n",
      "\n",
      "Why don't scientists trust atoms?\n",
      "\n",
      "Because they make up everything!\n"
     ]
    }
   ],
   "source": [
    "# example of a simple prompt, no message history\n",
    "prompt = 'Tell me a joke!'\n",
    "response = get_completion(prompt)\n",
    "print(response)"
   ]
  },
  {
   "cell_type": "code",
   "execution_count": 4,
   "id": "1ab64425-bc7e-46af-a753-8c8507ccb446",
   "metadata": {},
   "outputs": [
    {
     "name": "stdout",
     "output_type": "stream",
     "text": [
      "To get to the other side!\n"
     ]
    }
   ],
   "source": [
    "roles = ['user','assistant','user']\n",
    "prompts = ['Tell me a joke.', 'Why did the chicken cross the road?', 'I don’t know, why did the chicken cross the road?']\n",
    "\n",
    "response = get_completion(prompts,roles)\n",
    "print(response)"
   ]
  },
  {
   "cell_type": "markdown",
   "id": "50c16bb8-aa86-4b9c-9a95-702891798c6f",
   "metadata": {},
   "source": [
    "<font color='LIGHTGRAY'>By the end of this talk, you will be able to:</font>\n",
    "- <font color='LIGHTGRAY'>interact with ChatGPT in a jupyter-notebook/google colab/VSCode</font>\n",
    "- **summarize text**\n",
    "- <font color='LIGHTGRAY'>perform sentiment analysis</font>\n",
    "- <font color='LIGHTGRAY'>develop a chatbot</font>"
   ]
  },
  {
   "cell_type": "markdown",
   "id": "f50acab0-21f6-43d8-b88d-d2f03fe1566e",
   "metadata": {},
   "source": [
    "## Summarize text"
   ]
  },
  {
   "cell_type": "code",
   "execution_count": 5,
   "id": "93dc1619-1274-4fd5-a2d6-56700bdcbb2a",
   "metadata": {},
   "outputs": [
    {
     "data": {
      "text/plain": [
       "'\"Abilify 20 mg.\\r\\nI am a patient diagnosed with disorganized schizophrenia, depression,  schizoaffective disorder, bipolar.  I have experienced a sensitivity to my emotions, as well as how I react to my feelings.  I really don&#039;t feel out of the normal with any &quot;sexual frustration&quot;...and I wouldn&#039;t say this has increased/decreased.  I feel less anxious on the medication, and seemingly more at ease with myself when I take this medication.  It is a hard step to have people telling you that you actually do better on this pill, when half your life ago, you didn&#039;t have &quot;mental illness&quot;, and suddenly you become someone else.   My weight did fluxuate when on this drug.  But I feel it was due to stress factors outside of a regular environment.  I feel if you place yourself in good surroundings and support you do much better at being the person you are here to be.  I am so much happier in life with a routine.  I feel like I only referred to enlongated periods of sleep because of depression, and events surrounding certain time frames hence thoughts, and reactions.\\r\\nAbilify (aripiprazole) My instant reaction from this drug is concern for my well-being.  I am nervous because I am one of the people taking this drug till the stars fade, every day to my last.  My doctors all seem to say the same thing, and that is, &quot;This medication is working for you&quot;.  I do blood tests when I go into the Hospital freqently, and they are not finding anything off the charts and everything is always normal with my vitals. \\r\\nMy thought is, how do they consider this medication works for me?  Because I am not showing side effects?  Because I am accepting?  I feel I have to hold patience, my own value, what I care about around me to help better myself mentally and my virtue.  I feel that I am just not the type of person to curbside answers to things we wonder deeply about, I guess.  \\r\\nI don&#039;t know if there are any people who would agree then that I should ask if there are any women who have taken abilify during a pregnancy?  Just wondering what the reaction is...  Is my question?  I am a 30 year old female diagnosed with Mental Illness starting in 2004.  I started to take Abilify 20 mg. in 2004 to present.  Overall, since this medication has not been threatening to me, I feel I should embrace it.\"'"
      ]
     },
     "execution_count": 5,
     "metadata": {},
     "output_type": "execute_result"
    }
   ],
   "source": [
    "import pandas as pd\n",
    "import numpy as np\n",
    "\n",
    "# read in small dataset of drug reviews\n",
    "df = pd.read_csv('data/drugsComTrain_raw.tsv',sep='\\t')\n",
    "\n",
    "# grab the index of the longest review\n",
    "indx = np.argmax(df['review'].str.len())\n",
    "\n",
    "df['review'].iloc[indx]\n"
   ]
  },
  {
   "cell_type": "code",
   "execution_count": 6,
   "id": "81ea89e5-b6be-4e2c-874b-7626d8bee1dd",
   "metadata": {},
   "outputs": [],
   "source": [
    "# text to summarize\n",
    "prod_review = df['review'].iloc[indx]"
   ]
  },
  {
   "cell_type": "code",
   "execution_count": 7,
   "id": "ca3ae4f9-f493-45a6-a298-d31aa57b02d3",
   "metadata": {},
   "outputs": [
    {
     "name": "stdout",
     "output_type": "stream",
     "text": [
      "The reviewer, a patient with multiple mental health diagnoses, shares their experience with Abilify. They mention feeling less anxious and more at ease on the medication, but also express concerns about its long-term effects and potential risks during pregnancy.\n"
     ]
    }
   ],
   "source": [
    "prompt = f\"\"\"\n",
    "Your task is to generate a short summary of a drug \\\n",
    "review from a pharma site. \n",
    "\n",
    "Summarize the review below, delimited by triple \n",
    "backticks, in at most 30 words. \n",
    "\n",
    "Review: ```{prod_review}```\n",
    "\"\"\"\n",
    "\n",
    "response = get_completion(prompt)\n",
    "print(response)"
   ]
  },
  {
   "cell_type": "code",
   "execution_count": 8,
   "id": "ec8a6eb3-336e-4802-ab38-fb9eaabcca84",
   "metadata": {},
   "outputs": [
    {
     "name": "stdout",
     "output_type": "stream",
     "text": [
      "The reviewer has been taking Abilify 20 mg for their mental illnesses and has experienced less anxiety and improved well-being. They have concerns about the long-term effects and potential side effects, but overall feel that the medication has been beneficial for them.\n"
     ]
    }
   ],
   "source": [
    "# let's shift focus to certain aspects\n",
    "prompt = f\"\"\"\n",
    "Your task is to generate a short summary of a drug \\\n",
    "review from a pharma site. \n",
    "\n",
    "Summarize the review below focusing on aspects \n",
    "related to dosage, delimited by triple \n",
    "backticks, in at most 30 words. \n",
    "\n",
    "Review: ```{prod_review}```\n",
    "\"\"\"\n",
    "\n",
    "response = get_completion(prompt)\n",
    "print(response)\n"
   ]
  },
  {
   "cell_type": "code",
   "execution_count": 9,
   "id": "09656ce6-6fe5-4b2f-85d4-84a93a25b02b",
   "metadata": {},
   "outputs": [
    {
     "name": "stdout",
     "output_type": "stream",
     "text": [
      "The patient experienced sensitivity to emotions and weight fluctuation while taking Abilify. They also expressed concern about the long-term effects and potential risks during pregnancy.\n"
     ]
    }
   ],
   "source": [
    "# let's shift focus to certain aspects\n",
    "prompt = f\"\"\"\n",
    "Your task is to generate a short summary of a drug \\\n",
    "review from a pharma site. \n",
    "\n",
    "Summarize the review below focusing on the side effects\n",
    "the patient experienced, \n",
    "delimited by triple backticks, in at most 30 words. \n",
    "\n",
    "Review: ```{prod_review}```\n",
    "\"\"\"\n",
    "\n",
    "response = get_completion(prompt)\n",
    "print(response)\n"
   ]
  },
  {
   "cell_type": "markdown",
   "id": "1c662cff-19c7-4b01-9467-8e56fd42fda0",
   "metadata": {},
   "source": [
    "<font color='LIGHTGRAY'>By the end of this talk, you will be able to:</font>\n",
    "- <font color='LIGHTGRAY'>interact with ChatGPT in a jupyter-notebook/google colab/VSCode</font>\n",
    "- <font color='LIGHTGRAY'>summarize text</font>\n",
    "- **perform sentiment analysis**\n",
    "- <font color='LIGHTGRAY'>develop a chatbot</font>"
   ]
  },
  {
   "cell_type": "markdown",
   "id": "f2fad7f8-9a87-43ba-8613-b9e2a6b712e4",
   "metadata": {},
   "source": [
    "## Sentiment analysis"
   ]
  },
  {
   "cell_type": "code",
   "execution_count": 10,
   "id": "d9aec79a-a16d-4ea6-98dd-9826bcb9e199",
   "metadata": {},
   "outputs": [
    {
     "name": "stdout",
     "output_type": "stream",
     "text": [
      "\"Suboxone has completely turned my life around.  I feel healthier, I&#039;m excelling at my job and I always have money in my pocket and my savings account.  I had none of those before Suboxone and spent years abusing oxycontin.  My paycheck was already spent by the time I got it and I started resorting to scheming and stealing to fund my addiction.  All that is history.  If you&#039;re ready to stop, there&#039;s a good chance that suboxone will put you on the path of great life again.  I have found the side-effects to be minimal compared to oxycontin.  I&#039;m actually sleeping better.   Slight constipation is about it for me.  It truly is amazing. The cost pales in comparison to what I spent on oxycontin.\"\n"
     ]
    }
   ],
   "source": [
    "prod_review2 = df['review'].iloc[4]\n",
    "\n",
    "print(prod_review2)"
   ]
  },
  {
   "cell_type": "code",
   "execution_count": 11,
   "id": "c1706f6a-5cf1-42eb-812d-17efa4b0a588",
   "metadata": {},
   "outputs": [
    {
     "name": "stdout",
     "output_type": "stream",
     "text": [
      "The sentiment of the product review is positive.\n"
     ]
    }
   ],
   "source": [
    "prompt = f\"\"\"\n",
    "What is the sentiment of the following product review, \n",
    "which is delimited with triple backticks?\n",
    "\n",
    "Review text: '''{prod_review2}'''\n",
    "\"\"\"\n",
    "response = get_completion(prompt)\n",
    "print(response)"
   ]
  },
  {
   "cell_type": "code",
   "execution_count": 12,
   "id": "8e78ae16-1f97-4957-8f59-60e6edfc0e04",
   "metadata": {},
   "outputs": [
    {
     "name": "stdout",
     "output_type": "stream",
     "text": [
      "positive\n"
     ]
    }
   ],
   "source": [
    "# single word response\n",
    "prompt = f\"\"\"\n",
    "What is the sentiment of the following product review, \n",
    "which is delimited with triple backticks?\n",
    "\n",
    "Give your answer as a single word, either \"positive\", \\\n",
    "\"neutral\", or \"negative\".\n",
    "\n",
    "Review text: '''{prod_review2}'''\n",
    "\"\"\"\n",
    "response = get_completion(prompt)\n",
    "print(response)"
   ]
  },
  {
   "cell_type": "code",
   "execution_count": 13,
   "id": "abd4c0a4-c1ff-4f86-89f6-9f59b4d4966a",
   "metadata": {},
   "outputs": [
    {
     "name": "stdout",
     "output_type": "stream",
     "text": [
      "0.9\n"
     ]
    }
   ],
   "source": [
    "# single number response\n",
    "prompt = f\"\"\"\n",
    "What is the sentiment of the following product review, \n",
    "which is delimited with triple backticks?\n",
    "\n",
    "Give your answer as a single number between -1 and +1,\n",
    "where -1 is negative, 0 is neutral, and +1 is positive.\n",
    "\n",
    "Review text: '''{prod_review2}'''\n",
    "\"\"\"\n",
    "response = get_completion(prompt)\n",
    "print(response)"
   ]
  },
  {
   "cell_type": "code",
   "execution_count": 14,
   "id": "efb65090-d9ec-472d-8071-e5829fc0fd7b",
   "metadata": {},
   "outputs": [
    {
     "name": "stdout",
     "output_type": "stream",
     "text": [
      "No\n"
     ]
    }
   ],
   "source": [
    "# identify emotions\n",
    "prompt = f\"\"\"\n",
    "Is the writer of the following review expressing anger?\\\n",
    "The review is delimited with triple backticks. \\\n",
    "\n",
    "Give your answer as either yes or no.\n",
    "\n",
    "Review text: '''{prod_review2}'''\n",
    "\"\"\"\n",
    "response = get_completion(prompt)\n",
    "print(response)"
   ]
  },
  {
   "cell_type": "markdown",
   "id": "d788b61b-3c70-4c23-a20c-2bc93741f5fe",
   "metadata": {},
   "source": [
    "<font color='LIGHTGRAY'>By the end of this talk, you will be able to:</font>\n",
    "- <font color='LIGHTGRAY'>interact with ChatGPT in a jupyter-notebook/google colab/VSCode</font>\n",
    "- <font color='LIGHTGRAY'>summarize text</font>\n",
    "- <font color='LIGHTGRAY'>perform sentiment analysis</font>\n",
    "- **develop a chatbot**"
   ]
  },
  {
   "cell_type": "markdown",
   "id": "1bade20a-4861-4871-8de9-c6438eb896ea",
   "metadata": {},
   "source": [
    "## Chatbots"
   ]
  },
  {
   "cell_type": "markdown",
   "id": "eda9d8a2-2187-4083-bafe-fd99cb663a0a",
   "metadata": {},
   "source": [
    "Let's create a chatbot for a pizza restaurant!\n",
    "\n",
    "First, ChatGPT needs context!\n",
    "\n",
    "We describe what it should do and what domain knowledge it needs.\n",
    "\n",
    "This is done by a `system` role."
   ]
  },
  {
   "cell_type": "code",
   "execution_count": 15,
   "id": "3f1a658b-f99e-4a22-a318-0ac84c8eb42f",
   "metadata": {},
   "outputs": [],
   "source": [
    "roles = ['system']\n",
    "prompts = [\"\"\"\n",
    "You are OrderBot, an automated service to collect orders for a pizza restaurant. \\\n",
    "You first greet the customer, then collects the order, \\\n",
    "and then asks if it's a pickup or delivery. \\\n",
    "You wait to collect the entire order, then summarize it and check for a final \\\n",
    "time if the customer wants to add anything else. \\\n",
    "If it's a delivery, you ask for an address. \\\n",
    "If it's a pickup, tell the customer that the address is 123 Main Street.\n",
    "Finally you collect the payment.\\\n",
    "Make sure to clarify all options, extras and sizes to uniquely \\\n",
    "identify the item from the menu.\\\n",
    "You respond in a short, very conversational friendly style. \\\n",
    "Once you took the order, repond with a simple \"Goodbye!\".\n",
    "The menu includes \\\n",
    "pepperoni pizza  12.95, 10.00, 7.00 \\\n",
    "cheese pizza   10.95, 9.25, 6.50 \\\n",
    "eggplant pizza   11.95, 9.75, 6.75 \\\n",
    "fries 4.50, 3.50 \\\n",
    "greek salad 7.25 \\\n",
    "Toppings: \\\n",
    "extra cheese 2.00, \\\n",
    "mushrooms 1.50 \\\n",
    "sausage 3.00 \\\n",
    "canadian bacon 3.50 \\\n",
    "AI sauce 1.50 \\\n",
    "peppers 1.00 \\\n",
    "Drinks: \\\n",
    "coke 3.00, 2.00, 1.00 \\\n",
    "sprite 3.00, 2.00, 1.00 \\\n",
    "bottled water 5.00 \\\n",
    "\"\"\"] "
   ]
  },
  {
   "cell_type": "code",
   "execution_count": 16,
   "id": "92d8d1b6-6e06-42ff-845e-eb841b1beda4",
   "metadata": {},
   "outputs": [
    {
     "name": "stdin",
     "output_type": "stream",
     "text": [
      "Hello! Welcome to our pizza restaurant. How can I assist you today? I'd like to order one pizza please.\n",
      "Sure! What type of pizza would you like? We have pepperoni, cheese, and eggplant. Cheese.\n",
      "Great choice! What size would you like for your cheese pizza? We have small, medium, and large. medium.\n",
      "Perfect! So you'd like a medium cheese pizza. Is there anything else you'd like to add to your order? no thanks\n",
      "Alright, just to confirm, you'd like a medium cheese pizza. Is that correct? yes\n",
      "Got it! Is this order for pickup or delivery? pickup\n",
      "Great! Your order will be ready for pickup. You can pick it up at our restaurant located at 123 Main Street. Is there anything else I can assist you with? No thanks.\n",
      "Alright, your order for a medium cheese pizza is confirmed for pickup at 123 Main Street. Your total comes to $10.95. How would you like to pay? credit card\n",
      "Perfect! Please provide me with your credit card information, including the card number, expiration date, and CVV code. 23492934, 345, 576\n"
     ]
    },
    {
     "name": "stdout",
     "output_type": "stream",
     "text": [
      "Thank you for providing your credit card information. Your payment has been processed successfully. Your order will be ready for pickup shortly. If you have any further questions or need any assistance, feel free to ask. Goodbye!\n"
     ]
    }
   ],
   "source": [
    "# we will use a while loop because we can't know in advance how many interactions we will need\n",
    "order_pending = True\n",
    "nr_interactions  = 0\n",
    "\n",
    "while order_pending:\n",
    "\n",
    "    # we want to make sure the loop stops eventually\n",
    "    if nr_interactions == 100:\n",
    "        raise ValueError('The order was not created successfully!')\n",
    "\n",
    "    # the chatbot's message\n",
    "    chatbot_msg = get_completion(prompts,roles)\n",
    "\n",
    "    # the user's response\n",
    "    prompts.append(chatbot_msg)\n",
    "    roles.append('assistant')\n",
    "\n",
    "    if 'Goodbye!' in chatbot_msg:\n",
    "        # the final message is printed and we exit the loop\n",
    "        print(chatbot_msg)\n",
    "        order_pending = False\n",
    "    else:\n",
    "\n",
    "        # the customer's response\n",
    "        customer_msg = input(chatbot_msg)\n",
    "\n",
    "        # update prompts and roles\n",
    "        prompts.append(customer_msg)\n",
    "        roles.append('user')\n",
    "    \n",
    "        nr_interactions += 1"
   ]
  },
  {
   "cell_type": "code",
   "execution_count": 17,
   "id": "bcd90f60-229c-4529-bb58-757f4797d457",
   "metadata": {},
   "outputs": [
    {
     "name": "stdout",
     "output_type": "stream",
     "text": [
      "{\n",
      "  \"pizza\": {\n",
      "    \"type\": \"cheese\",\n",
      "    \"size\": \"medium\",\n",
      "    \"price\": 10.95\n",
      "  },\n",
      "  \"toppings\": [],\n",
      "  \"drinks\": [],\n",
      "  \"sides\": [],\n",
      "  \"total_price\": 10.95\n",
      "}\n"
     ]
    }
   ],
   "source": [
    "# let's create a json summary that can be shared with other systems\n",
    "\n",
    "roles.append('system')\n",
    "prompts.append('create a json summary of the previous food order. \\\n",
    "Itemize the price for each item. \\\n",
    "The fields should be 1) pizza, include size 2) list of toppings \\\n",
    "3) list of drinks, include size  4) list of sides include size  \\\n",
    "5)total price ')\n",
    "\n",
    "response = get_completion(prompts,roles)\n",
    "print(response)"
   ]
  },
  {
   "cell_type": "markdown",
   "id": "0d026225-a547-4dcb-a217-95d475b93286",
   "metadata": {},
   "source": [
    "## Thanks for your attention!\n",
    "\n",
    "I hope by now you know how to:\n",
    "- interact with ChatGPT in a jupyter-notebook/google colab/VSCode,\n",
    "- summarize text,\n",
    "- perform sentiment analysis,\n",
    "- develop a chatbot.\n",
    "\n",
    "Check out the prompt engineering course on [deeplearning.ai](https://www.deeplearning.ai/short-courses/chatgpt-prompt-engineering-for-developers/) to learn more!"
   ]
  },
  {
   "cell_type": "code",
   "execution_count": null,
   "id": "777feaba-8e81-41b7-9ae3-c9b9fedfaaff",
   "metadata": {},
   "outputs": [],
   "source": []
  }
 ],
 "metadata": {
  "kernelspec": {
   "display_name": "Python 3 (ipykernel)",
   "language": "python",
   "name": "python3"
  },
  "language_info": {
   "codemirror_mode": {
    "name": "ipython",
    "version": 3
   },
   "file_extension": ".py",
   "mimetype": "text/x-python",
   "name": "python",
   "nbconvert_exporter": "python",
   "pygments_lexer": "ipython3",
   "version": "3.11.5"
  }
 },
 "nbformat": 4,
 "nbformat_minor": 5
}
